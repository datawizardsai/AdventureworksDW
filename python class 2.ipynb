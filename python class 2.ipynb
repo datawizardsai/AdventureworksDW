{
  "nbformat": 4,
  "nbformat_minor": 0,
  "metadata": {
    "colab": {
      "name": "Untitled12.ipynb",
      "provenance": [],
      "authorship_tag": "ABX9TyOMIPQBHpdEazdn6CX9ONdL",
      "include_colab_link": true
    },
    "kernelspec": {
      "name": "python3",
      "display_name": "Python 3"
    },
    "accelerator": "TPU"
  },
  "cells": [
    {
      "cell_type": "markdown",
      "metadata": {
        "id": "view-in-github",
        "colab_type": "text"
      },
      "source": [
        "<a href=\"https://colab.research.google.com/github/datawizardsai/AdventureworksDW/blob/main/python%20class%202.ipynb\" target=\"_parent\"><img src=\"https://colab.research.google.com/assets/colab-badge.svg\" alt=\"Open In Colab\"/></a>"
      ]
    },
    {
      "cell_type": "code",
      "metadata": {
        "colab": {
          "base_uri": "https://localhost:8080/"
        },
        "id": "AcClvAvaRDzM",
        "outputId": "406e9342-6bd2-4f5c-de33-0667a41cf85c"
      },
      "source": [
        "print(\"Hello world\")"
      ],
      "execution_count": 1,
      "outputs": [
        {
          "output_type": "stream",
          "text": [
            "Hello world\n"
          ],
          "name": "stdout"
        }
      ]
    },
    {
      "cell_type": "code",
      "metadata": {
        "colab": {
          "base_uri": "https://localhost:8080/"
        },
        "id": "Blbz6g6DSBmD",
        "outputId": "dba9bd18-21cb-47a0-e504-1cca3d78563e"
      },
      "source": [
        "print(\"Hello world\")"
      ],
      "execution_count": 2,
      "outputs": [
        {
          "output_type": "stream",
          "text": [
            "Hello world\n"
          ],
          "name": "stdout"
        }
      ]
    },
    {
      "cell_type": "markdown",
      "metadata": {
        "id": "YrNQhGyxSRZX"
      },
      "source": [
        "This is my first Python Class"
      ]
    },
    {
      "cell_type": "code",
      "metadata": {
        "colab": {
          "base_uri": "https://localhost:8080/"
        },
        "id": "UoXi7l7xSObi",
        "outputId": "4c407312-3505-485e-f24b-c94708bc72eb"
      },
      "source": [
        "print(\"data science\")\r\n",
        "print(\"data science\")\r\n",
        "print(\"data science\")\r\n",
        "print(\"data science\")\r\n",
        "print(\"data science\")\r\n",
        "print(\"data science\")\r\n",
        "print(\"data science\")\r\n",
        "print(\"data science\")\r\n",
        "print(\"data science\")"
      ],
      "execution_count": 5,
      "outputs": [
        {
          "output_type": "stream",
          "text": [
            "data science\n",
            "data science\n",
            "data science\n",
            "data science\n",
            "data science\n",
            "data science\n",
            "data science\n",
            "data science\n",
            "data science\n"
          ],
          "name": "stdout"
        }
      ]
    },
    {
      "cell_type": "code",
      "metadata": {
        "colab": {
          "base_uri": "https://localhost:8080/"
        },
        "id": "6SGeg6MgTmc0",
        "outputId": "aea6b312-6d7f-4a26-ab5b-7c203bc79566"
      },
      "source": [
        "  print(\"data science\")"
      ],
      "execution_count": 8,
      "outputs": [
        {
          "output_type": "stream",
          "text": [
            "data science\n"
          ],
          "name": "stdout"
        }
      ]
    },
    {
      "cell_type": "code",
      "metadata": {
        "id": "Y3_f5XniUUbg"
      },
      "source": [
        ""
      ],
      "execution_count": null,
      "outputs": []
    }
  ]
}